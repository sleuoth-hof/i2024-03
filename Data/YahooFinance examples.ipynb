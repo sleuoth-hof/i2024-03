{
 "cells": [
  {
   "cell_type": "code",
   "execution_count": 1,
   "id": "eeb1ae31-4eaf-479a-b547-8149dc17eb63",
   "metadata": {
    "tags": []
   },
   "outputs": [],
   "source": [
    "import yfinance as yf\n"
   ]
  },
  {
   "cell_type": "code",
   "execution_count": 10,
   "id": "7b729f12-71a1-4b26-bded-7daad27ca6ca",
   "metadata": {
    "tags": []
   },
   "outputs": [
    {
     "data": {
      "text/plain": [
       "[{'uuid': 'f335dbd7-ee63-3bc9-b277-e6d9561fea25',\n",
       "  'title': 'Brookfield Renewable Corp (BEPC) Q1 2024 Earnings Call Transcript Highlights: Strategic Growth ...',\n",
       "  'publisher': 'GuruFocus.com',\n",
       "  'link': 'https://finance.yahoo.com/news/brookfield-renewable-corp-bepc-q1-070453848.html',\n",
       "  'providerPublishTime': 1714806293,\n",
       "  'type': 'STORY',\n",
       "  'relatedTickers': ['BEP', 'MSFT']},\n",
       " {'uuid': 'c5ef2c8a-d365-3005-a6e7-3b081b2ab3f2',\n",
       "  'title': 'Q1 2024 Brookfield Renewable Corp Earnings Call',\n",
       "  'publisher': 'Thomson Reuters StreetEvents',\n",
       "  'link': 'https://finance.yahoo.com/news/q1-2024-brookfield-renewable-corp-024540822.html',\n",
       "  'providerPublishTime': 1714790740,\n",
       "  'type': 'STORY',\n",
       "  'relatedTickers': ['BEP', 'MSFT']},\n",
       " {'uuid': 'd2afdac1-3589-3cf8-a87f-8ad67325d990',\n",
       "  'title': 'The Big Threat Hanging Over Google',\n",
       "  'publisher': 'The Information',\n",
       "  'link': 'https://finance.yahoo.com/m/d2afdac1-3589-3cf8-a87f-8ad67325d990/the-big-threat-hanging-over.html',\n",
       "  'providerPublishTime': 1714775244,\n",
       "  'type': 'STORY',\n",
       "  'thumbnail': {'resolutions': [{'url': 'https://s.yimg.com/uu/api/res/1.2/C95Ptms910yu_LQQLAqyog--~B/aD03MjA7dz0xMjgwO2FwcGlkPXl0YWNoeW9u/https://media.zenfs.com/en/the_information_premium_news_383/b0db7f4eb913a76da3514f91ee89066e',\n",
       "     'width': 1280,\n",
       "     'height': 720,\n",
       "     'tag': 'original'},\n",
       "    {'url': 'https://s.yimg.com/uu/api/res/1.2/L7HkXvxJHZ3s0QSOjLofZw--~B/Zmk9ZmlsbDtoPTE0MDtweW9mZj0wO3c9MTQwO2FwcGlkPXl0YWNoeW9u/https://media.zenfs.com/en/the_information_premium_news_383/b0db7f4eb913a76da3514f91ee89066e',\n",
       "     'width': 140,\n",
       "     'height': 140,\n",
       "     'tag': '140x140'}]},\n",
       "  'relatedTickers': ['GOOG', 'MSFT', 'AAPL', 'TSLA']},\n",
       " {'uuid': '608bf453-4640-3514-b499-fbedb1bc6210',\n",
       "  'title': 'Byte-Sized AI: Sam’s Club Uses AI for Receipts, Tech Companies Bolster Supply Chain\\xa0AI',\n",
       "  'publisher': 'Sourcing Journal',\n",
       "  'link': 'https://finance.yahoo.com/m/608bf453-4640-3514-b499-fbedb1bc6210/byte-sized-ai%3A-sam%E2%80%99s-club.html',\n",
       "  'providerPublishTime': 1714773600,\n",
       "  'type': 'STORY',\n",
       "  'thumbnail': {'resolutions': [{'url': 'https://s.yimg.com/uu/api/res/1.2/vFgHcy2YUuMpKcy4mjHupg--~B/aD04MDA7dz0xMjAwO2FwcGlkPXl0YWNoeW9u/https://media.zenfs.com/en/sourcing_journal_735/fadc3d830b16d149a4d3ffcd6934b733',\n",
       "     'width': 1200,\n",
       "     'height': 800,\n",
       "     'tag': 'original'},\n",
       "    {'url': 'https://s.yimg.com/uu/api/res/1.2/jn6T1NS19AdRTp9L1TP5Cw--~B/Zmk9ZmlsbDtoPTE0MDtweW9mZj0wO3c9MTQwO2FwcGlkPXl0YWNoeW9u/https://media.zenfs.com/en/sourcing_journal_735/fadc3d830b16d149a4d3ffcd6934b733',\n",
       "     'width': 140,\n",
       "     'height': 140,\n",
       "     'tag': '140x140'}]},\n",
       "  'relatedTickers': ['MSFT', 'WMT']},\n",
       " {'uuid': '5b7bb6e0-7310-31ed-a09f-6e96e335fc06',\n",
       "  'title': 'How AI is impacting Q1 earnings',\n",
       "  'publisher': 'Yahoo Finance Video',\n",
       "  'link': 'https://finance.yahoo.com/video/ai-impacting-q1-earnings-214124185.html',\n",
       "  'providerPublishTime': 1714772484,\n",
       "  'type': 'VIDEO',\n",
       "  'thumbnail': {'resolutions': [{'url': 'https://s.yimg.com/uu/api/res/1.2/64DxNLhSukNl4ykqdq7CnA--~B/aD0zMjA5O3c9NTcwMDthcHBpZD15dGFjaHlvbg--/https://s.yimg.com/os/creatr-uploaded-images/2024-05/35bdda70-0990-11ef-9653-b15a58a3eeb9',\n",
       "     'width': 5700,\n",
       "     'height': 3209,\n",
       "     'tag': 'original'},\n",
       "    {'url': 'https://s.yimg.com/uu/api/res/1.2/Ier5mIiimcRNBxjHXA5gsg--~B/Zmk9ZmlsbDtoPTE0MDtweW9mZj0wO3c9MTQwO2FwcGlkPXl0YWNoeW9u/https://s.yimg.com/os/creatr-uploaded-images/2024-05/35bdda70-0990-11ef-9653-b15a58a3eeb9',\n",
       "     'width': 140,\n",
       "     'height': 140,\n",
       "     'tag': '140x140'}]},\n",
       "  'relatedTickers': ['MSFT', 'NVDA', 'META', 'GOOG']},\n",
       " {'uuid': '1b49045f-fe21-3791-bf69-f65cdceee29a',\n",
       "  'title': '4 Little-Known Tools That Can Make or Break Your Small Business',\n",
       "  'publisher': 'Motley Fool',\n",
       "  'link': 'https://finance.yahoo.com/m/1b49045f-fe21-3791-bf69-f65cdceee29a/4-little-known-tools-that-can.html',\n",
       "  'providerPublishTime': 1714766417,\n",
       "  'type': 'STORY',\n",
       "  'thumbnail': {'resolutions': [{'url': 'https://s.yimg.com/uu/api/res/1.2/iZcdLa2bNeemLjzFda3o3w--~B/aD00Nzk7dz03Mjg7YXBwaWQ9eXRhY2h5b24-/https://media.zenfs.com/en/motleyfool.com/57dc93f0c18b20b4bc7ca76de1701a2a',\n",
       "     'width': 728,\n",
       "     'height': 479,\n",
       "     'tag': 'original'},\n",
       "    {'url': 'https://s.yimg.com/uu/api/res/1.2/PfY8XKiRWsl7NO3R_Th8fg--~B/Zmk9ZmlsbDtoPTE0MDtweW9mZj0wO3c9MTQwO2FwcGlkPXl0YWNoeW9u/https://media.zenfs.com/en/motleyfool.com/57dc93f0c18b20b4bc7ca76de1701a2a',\n",
       "     'width': 140,\n",
       "     'height': 140,\n",
       "     'tag': '140x140'}]},\n",
       "  'relatedTickers': ['GOOG', 'MSFT']},\n",
       " {'uuid': '3881997c-8988-3113-88a8-2507f0b3a25a',\n",
       "  'title': 'Why Brookfield Renewable Partners Rallied Today',\n",
       "  'publisher': 'Motley Fool',\n",
       "  'link': 'https://finance.yahoo.com/m/3881997c-8988-3113-88a8-2507f0b3a25a/why-brookfield-renewable.html',\n",
       "  'providerPublishTime': 1714766060,\n",
       "  'type': 'STORY',\n",
       "  'thumbnail': {'resolutions': [{'url': 'https://s.yimg.com/uu/api/res/1.2/h92TnbPkaFE9UoqaDOp14g--~B/aD0zNzQ0O3c9NTYxNjthcHBpZD15dGFjaHlvbg--/https://media.zenfs.com/en/motleyfool.com/ead6d6e886e7f2e0b4909fad39702f92',\n",
       "     'width': 5616,\n",
       "     'height': 3744,\n",
       "     'tag': 'original'},\n",
       "    {'url': 'https://s.yimg.com/uu/api/res/1.2/4SLw5d5pdbz6j5.0RYPR8A--~B/Zmk9ZmlsbDtoPTE0MDtweW9mZj0wO3c9MTQwO2FwcGlkPXl0YWNoeW9u/https://media.zenfs.com/en/motleyfool.com/ead6d6e886e7f2e0b4909fad39702f92',\n",
       "     'width': 140,\n",
       "     'height': 140,\n",
       "     'tag': '140x140'}]},\n",
       "  'relatedTickers': ['BEP', 'MSFT']},\n",
       " {'uuid': '4205eaa9-f620-3a0b-a81a-0e82c7c9fd0b',\n",
       "  'title': 'Magnificent Seven Stocks: Nvidia Stock Rallies Above Key Level; Apple Soars On Earnings',\n",
       "  'publisher': \"Investor's Business Daily\",\n",
       "  'link': 'https://finance.yahoo.com/m/4205eaa9-f620-3a0b-a81a-0e82c7c9fd0b/magnificent-seven-stocks%3A.html',\n",
       "  'providerPublishTime': 1714763802,\n",
       "  'type': 'STORY',\n",
       "  'thumbnail': {'resolutions': [{'url': 'https://s.yimg.com/uu/api/res/1.2/IVY_jviTG_ue49k31izfew--~B/aD02MDA7dz0xMDY1O2FwcGlkPXl0YWNoeW9u/https://media.zenfs.com/en/ibd.com/f287385a5f84c1d1e13191d4ae92d9fb',\n",
       "     'width': 1065,\n",
       "     'height': 600,\n",
       "     'tag': 'original'},\n",
       "    {'url': 'https://s.yimg.com/uu/api/res/1.2/EDUpiEmpjj.CUhr9H67TBQ--~B/Zmk9ZmlsbDtoPTE0MDtweW9mZj0wO3c9MTQwO2FwcGlkPXl0YWNoeW9u/https://media.zenfs.com/en/ibd.com/f287385a5f84c1d1e13191d4ae92d9fb',\n",
       "     'width': 140,\n",
       "     'height': 140,\n",
       "     'tag': '140x140'}]},\n",
       "  'relatedTickers': ['NVDA', 'AAPL', 'TSLA', 'META', 'MSFT']}]"
      ]
     },
     "execution_count": 10,
     "metadata": {},
     "output_type": "execute_result"
    }
   ],
   "source": [
    "ticket = yf.Ticker(\"MSFT\")\n",
    "ticket.news"
   ]
  },
  {
   "cell_type": "code",
   "execution_count": 11,
   "id": "dc65ee5e-c53c-403d-a772-22cfa95b23c6",
   "metadata": {
    "tags": []
   },
   "outputs": [
    {
     "name": "stderr",
     "output_type": "stream",
     "text": [
      "[*********************100%%**********************]  1 of 1 completed\n"
     ]
    }
   ],
   "source": [
    "ticket_name = \"MSFT\"\n",
    "data = yf.download(f\"{ticket_name}\")\n",
    "data.to_csv(f'{ticket_name}_table_all_time.csv')"
   ]
  },
  {
   "cell_type": "code",
   "execution_count": null,
   "id": "45cc2c2f-4ea8-4ae8-a643-8af188a412ca",
   "metadata": {},
   "outputs": [],
   "source": []
  }
 ],
 "metadata": {
  "kernelspec": {
   "display_name": "Python 3 (ipykernel)",
   "language": "python",
   "name": "python3"
  },
  "language_info": {
   "codemirror_mode": {
    "name": "ipython",
    "version": 3
   },
   "file_extension": ".py",
   "mimetype": "text/x-python",
   "name": "python",
   "nbconvert_exporter": "python",
   "pygments_lexer": "ipython3",
   "version": "3.11.5"
  }
 },
 "nbformat": 4,
 "nbformat_minor": 5
}
