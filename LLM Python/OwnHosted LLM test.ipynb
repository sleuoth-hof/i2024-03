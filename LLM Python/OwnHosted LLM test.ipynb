{
 "cells": [
  {
   "cell_type": "code",
   "execution_count": 1,
   "id": "4b2686b6",
   "metadata": {},
   "outputs": [
    {
     "name": "stdout",
     "output_type": "stream",
     "text": [
      "Requirement already satisfied: ollama in c:\\users\\manuel\\anaconda3\\lib\\site-packages (0.1.9)Note: you may need to restart the kernel to use updated packages.\n",
      "\n",
      "Requirement already satisfied: httpx<0.28.0,>=0.27.0 in c:\\users\\manuel\\anaconda3\\lib\\site-packages (from ollama) (0.27.0)\n",
      "Requirement already satisfied: anyio in c:\\users\\manuel\\anaconda3\\lib\\site-packages (from httpx<0.28.0,>=0.27.0->ollama) (3.5.0)\n",
      "Requirement already satisfied: certifi in c:\\users\\manuel\\anaconda3\\lib\\site-packages (from httpx<0.28.0,>=0.27.0->ollama) (2024.2.2)\n",
      "Requirement already satisfied: httpcore==1.* in c:\\users\\manuel\\anaconda3\\lib\\site-packages (from httpx<0.28.0,>=0.27.0->ollama) (1.0.5)\n",
      "Requirement already satisfied: idna in c:\\users\\manuel\\anaconda3\\lib\\site-packages (from httpx<0.28.0,>=0.27.0->ollama) (3.4)\n",
      "Requirement already satisfied: sniffio in c:\\users\\manuel\\anaconda3\\lib\\site-packages (from httpx<0.28.0,>=0.27.0->ollama) (1.2.0)\n",
      "Requirement already satisfied: h11<0.15,>=0.13 in c:\\users\\manuel\\anaconda3\\lib\\site-packages (from httpcore==1.*->httpx<0.28.0,>=0.27.0->ollama) (0.14.0)\n"
     ]
    }
   ],
   "source": [
    "pip install ollama\n"
   ]
  },
  {
   "cell_type": "code",
   "execution_count": 26,
   "id": "147e5878",
   "metadata": {},
   "outputs": [
    {
     "name": "stdout",
     "output_type": "stream",
     "text": [
      "{'stock': 'Wirecard AG', 'confidence': 0, 'advice': 'Sell'}\n"
     ]
    }
   ],
   "source": [
    "import requests\n",
    "import json\n",
    "url = 'http://localhost:11434/api/generate'\n",
    "news = \"\"\"\n",
    "Wirecard Files for Insolvency Amidst Multi-Billion Dollar Scandal\n",
    "\n",
    "Wirecard AG, once hailed as a pioneer in the fintech industry, has filed for insolvency amidst one of the largest financial scandals in recent memory. The company's stock plummeted by over 90% following revelations of a multi-billion dollar hole in its balance sheet, casting doubt on the integrity of its financial reporting.\n",
    "\n",
    "The scandal unfolded rapidly after auditors uncovered discrepancies totaling billions of dollars in Wirecard's accounts. Investigations revealed that the company had allegedly falsified financial data for years, misleading investors and regulators alike. As a result, Wirecard's CEO was arrested, and the company's operations were thrown into disarray.\n",
    "\n",
    "The collapse of Wirecard has sent shockwaves throughout the financial world, prompting calls for increased scrutiny of fintech companies and the regulatory bodies overseeing them. Investors who once saw Wirecard as a beacon of innovation are now left reeling from staggering losses, while authorities scramble to untangle the web of deceit that led to its downfall.\n",
    "\"\"\"\n",
    "data = {\n",
    "    \"model\": \"my-llama3\",\n",
    "    \"prompt\": news,\n",
    "    \"format\": \"json\",\n",
    "    \"stream\": False\n",
    "}\n",
    "\n",
    "response = requests.post(url, json=data)\n",
    "\n",
    "if response.status_code == 200:\n",
    "    cleanresponse = response.json()['response'].strip()\n",
    "    filterresponse = json.loads(cleanresponse)\n",
    "    print(filterresponse)\n",
    "else:\n",
    "    print(\"Fehler bei der Anfrage. Statuscode:\", response.status_code)"
   ]
  },
  {
   "cell_type": "code",
   "execution_count": null,
   "id": "ecb26562",
   "metadata": {},
   "outputs": [],
   "source": []
  },
  {
   "cell_type": "code",
   "execution_count": null,
   "id": "983ddbbc",
   "metadata": {},
   "outputs": [],
   "source": []
  },
  {
   "cell_type": "code",
   "execution_count": null,
   "id": "c9e7d337",
   "metadata": {},
   "outputs": [],
   "source": []
  },
  {
   "cell_type": "code",
   "execution_count": null,
   "id": "28486013",
   "metadata": {},
   "outputs": [],
   "source": []
  }
 ],
 "metadata": {
  "kernelspec": {
   "display_name": "Python 3 (ipykernel)",
   "language": "python",
   "name": "python3"
  },
  "language_info": {
   "codemirror_mode": {
    "name": "ipython",
    "version": 3
   },
   "file_extension": ".py",
   "mimetype": "text/x-python",
   "name": "python",
   "nbconvert_exporter": "python",
   "pygments_lexer": "ipython3",
   "version": "3.11.5"
  }
 },
 "nbformat": 4,
 "nbformat_minor": 5
}
