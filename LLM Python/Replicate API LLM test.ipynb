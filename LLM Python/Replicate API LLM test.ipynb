{
 "cells": [
  {
   "cell_type": "code",
   "execution_count": 1,
   "id": "5534c6cb",
   "metadata": {},
   "outputs": [
    {
     "name": "stdout",
     "output_type": "stream",
     "text": [
      "Collecting replicate\n",
      "  Obtaining dependency information for replicate from https://files.pythonhosted.org/packages/0d/7a/b011aed4b62eb6b40f8a478b05e9946e977ce0ecbb40adec150d6f8ecd4a/replicate-0.25.2-py3-none-any.whl.metadata\n",
      "  Downloading replicate-0.25.2-py3-none-any.whl.metadata (24 kB)\n",
      "Collecting httpx<1,>=0.21.0 (from replicate)\n",
      "  Obtaining dependency information for httpx<1,>=0.21.0 from https://files.pythonhosted.org/packages/41/7b/ddacf6dcebb42466abd03f368782142baa82e08fc0c1f8eaa05b4bae87d5/httpx-0.27.0-py3-none-any.whl.metadata\n",
      "  Downloading httpx-0.27.0-py3-none-any.whl.metadata (7.2 kB)\n",
      "Requirement already satisfied: packaging in c:\\users\\manuel\\anaconda3\\lib\\site-packages (from replicate) (23.1)\n",
      "Requirement already satisfied: pydantic>1.10.7 in c:\\users\\manuel\\anaconda3\\lib\\site-packages (from replicate) (1.10.8)\n",
      "Requirement already satisfied: typing-extensions>=4.5.0 in c:\\users\\manuel\\anaconda3\\lib\\site-packages (from replicate) (4.7.1)\n",
      "Requirement already satisfied: anyio in c:\\users\\manuel\\anaconda3\\lib\\site-packages (from httpx<1,>=0.21.0->replicate) (3.5.0)\n",
      "Requirement already satisfied: certifi in c:\\users\\manuel\\anaconda3\\lib\\site-packages (from httpx<1,>=0.21.0->replicate) (2024.2.2)\n",
      "Collecting httpcore==1.* (from httpx<1,>=0.21.0->replicate)\n",
      "  Obtaining dependency information for httpcore==1.* from https://files.pythonhosted.org/packages/78/d4/e5d7e4f2174f8a4d63c8897d79eb8fe2503f7ecc03282fee1fa2719c2704/httpcore-1.0.5-py3-none-any.whl.metadata\n",
      "  Downloading httpcore-1.0.5-py3-none-any.whl.metadata (20 kB)\n",
      "Requirement already satisfied: idna in c:\\users\\manuel\\anaconda3\\lib\\site-packages (from httpx<1,>=0.21.0->replicate) (3.4)\n",
      "Requirement already satisfied: sniffio in c:\\users\\manuel\\anaconda3\\lib\\site-packages (from httpx<1,>=0.21.0->replicate) (1.2.0)\n",
      "Collecting h11<0.15,>=0.13 (from httpcore==1.*->httpx<1,>=0.21.0->replicate)\n",
      "  Obtaining dependency information for h11<0.15,>=0.13 from https://files.pythonhosted.org/packages/95/04/ff642e65ad6b90db43e668d70ffb6736436c7ce41fcc549f4e9472234127/h11-0.14.0-py3-none-any.whl.metadata\n",
      "  Downloading h11-0.14.0-py3-none-any.whl.metadata (8.2 kB)\n",
      "Downloading replicate-0.25.2-py3-none-any.whl (39 kB)\n",
      "Downloading httpx-0.27.0-py3-none-any.whl (75 kB)\n",
      "   ---------------------------------------- 0.0/75.6 kB ? eta -:--:--\n",
      "   ---------------------------------------- 75.6/75.6 kB 2.1 MB/s eta 0:00:00\n",
      "Downloading httpcore-1.0.5-py3-none-any.whl (77 kB)\n",
      "   ---------------------------------------- 0.0/77.9 kB ? eta -:--:--\n",
      "   ------------------------------------ --- 71.7/77.9 kB 1.9 MB/s eta 0:00:01\n",
      "   ---------------------------------------- 77.9/77.9 kB 2.1 MB/s eta 0:00:00\n",
      "Downloading h11-0.14.0-py3-none-any.whl (58 kB)\n",
      "   ---------------------------------------- 0.0/58.3 kB ? eta -:--:--\n",
      "   ---------------------------------------- 58.3/58.3 kB 3.0 MB/s eta 0:00:00\n",
      "Installing collected packages: h11, httpcore, httpx, replicate\n",
      "Successfully installed h11-0.14.0 httpcore-1.0.5 httpx-0.27.0 replicate-0.25.2\n",
      "Note: you may need to restart the kernel to use updated packages.\n"
     ]
    }
   ],
   "source": [
    "pip install replicate"
   ]
  },
  {
   "cell_type": "code",
   "execution_count": 6,
   "id": "788418f2",
   "metadata": {},
   "outputs": [
    {
     "name": "stdout",
     "output_type": "stream",
     "text": [
      " Sure, I'd be happy to help! Based on the information provided, here is the JSON object you requested:\n",
      "\n",
      "{\n",
      "\"name\": \"Volkswagen\",\n",
      "\"indicator\": \"Sale\",\n",
      "\"reason\": \"Stellenabbau due to cost-cutting measures and declining sales\"\n",
      "}\n",
      "\n",
      "Explanation:\n",
      "\n",
      "* \"name\": Volkswagen, the company in question.\n",
      "* \"indicator\": Sale, as the company is undergoing cost-cutting measures and has announced a Stellenabbau (reduction of staff) to improve its financial situation\n"
     ]
    }
   ],
   "source": [
    "import replicate\n",
    "import os\n",
    "os.environ[\"REPLICATE_API_TOKEN\"] = \"r8_aLXnbC4WZLyigBhgSuQcB2CQgcr4hz22BfARY\"\n",
    "pre_prompt = \"Kannst du mir zu den makrtnews was ich dir gebe immer eine json erstellen sie soll beinhalten {name: Aktie ,indikator:Buy,Sale oder hold}\"\n",
    "prompt_input = \"\"\"\n",
    "Volkswagen stimmt Belegschaft auf Stellenabbau ein\n",
    "Stand: 27.11.2023 20:35 Uhr\n",
    "Der Wolfsburger Autobauer Volkswagen bereitet seine Belegschaft auf Einschnitte beim Personal vor. An dem Stellenabbau führt laut Konzernchef Blume kein Weg vorbei.\n",
    "Die Situation ist sehr kritisch, sagte Markenchef Thomas Schäfer am Montag vor 2.000 Vertrauensleuten der IG Metall in Wolfsburg, wie es in einem Beitrag im VW-Intranet heißt. Ohne spürbare Einschnitte geht es nicht. Wir müssen ran an die kritischen Themen, auch beim Personal. Zuvor hatte der Spiegel berichtet. Personalvorstand Gunnar Kilian kündigte vor den Vertrauensleuten an: Wir müssen die demografische Kurve konsequent als Vorteil begreifen, Altersteilzeit und Ruhestandsregelungen in den kommenden Jahren maximal nutzen. Zugleich machte er deutlich, dass Einsparungen beim Personal unvermeidlich seien. Wir müssen unsere Kosten senken und mit weniger Personal auskommen, um ein zukunftsfester Arbeitgeber zu bleiben.\n",
    "Job-Garantie gilt bis 2029\n",
    "Konzernchef Oliver Blume hatte am Freitag im Interview mit der Frankfurter Allgemeinen Zeitung angekündigt, dass es bei dem geplanten Sparprogramm auch darum gehen werde, Personal zu reduzieren. Daran führe kein Weg vorbei. Es sei aber noch nicht klar, wie viele Stellen wegfallen werden. Man werde für den Personalabbau alle sozialverträglichen Instrumente nutzen, zum Beispiel die Altersteilzeit oder auch die reguläre Rente. Wie viele Stellen wo genau wegfallen sollen, verhandelt das Management laut Blume derzeit mit dem Betriebsrat. Kurzfristig entlassen kann VW Beschäftigte nicht, das Unternehmen hat mit der Arbeitnehmerseite eine Job-Garantie bis ins Jahr 2029 vereinbart. Während einer Betriebsversammlung am 6. Dezember könnten bereits Details zum Stellenabbau bei VW vorgestellt werden, kündigte der Konzernchef an.\n",
    "VW will Kernmarke stärken\n",
    "Der Stellenabbau ist Teil eines umfangreichen Sparprogramms, mit dem Volkswagen bereits 2024 rund zehn Milliarden Euro einsparen will. In der Verwaltung soll beim Wolfsburger Autobauer bis 2026 eine Kostensenkung von bis zu 20 Prozent umgesetzt werden.\n",
    "VW verhängt Einstellungsstopp\n",
    "Volkswagen hatte bereits einen Einstellungsstopp in den niedersächsischen Werken Wolfsburg, Hannover Braunschweig, Salzgitter und Emden verhängt. Das allein reicht aber nicht, sagte Kilian am Montag. Es gehe nicht nur um Einschnitte bei der Belegschaft. Das Effizienz-Programm setzt nicht allein auf Personalmaßnahmen. Der Großteil der 10 Milliarden in der Marke VW wird über andere Maßnahmen erbracht. Einstellungsstopp und Personalabbau sind Elemente eines milliardenschweren Effizienzprogramms, mit dem VW seine schwächelnde Pkw-Kernmarke wieder in Form bringen will. Die Effizienzgewinne würden nicht eins zu eins auf das Ergebnis durchschlagen, sagte Blume, aber immerhin dazu beitragen, erwartete Belastungen im nächsten Jahr auszugleichen.\n",
    "Betriebsrat pocht auf Tarifverträge und Job-Garantie\n",
    "Betriebsratschefin Daniela Cavallo bekräftigte auf der Versammlung am Montag die von ihr bereits zuvor genannten roten Linien: Kein Abrücken von unseren Tarifverträgen und der Beschäftigungssicherung bis 2029.\n",
    "\"\"\"\n",
    "\n",
    "output = replicate.run('a16z-infra/llama13b-v2-chat:df7690f1994d94e96ad9d568eac121aecf50684a0b0963b25a41cc40061269e5', # LLM model\n",
    "                        input={\"prompt\": f\"{pre_prompt} {prompt_input} Assistant: \", # Prompts\n",
    "                        \"temperature\":0.1, \"top_p\":0.9, \"max_length\":128, \"repetition_penalty\":1})  # Model parameters\n",
    "\n",
    "output\n",
    "full_response = \"\"\n",
    "\n",
    "for item in output:\n",
    "  full_response += item\n",
    "\n",
    "print(full_response)\n",
    "     "
   ]
  },
  {
   "cell_type": "code",
   "execution_count": null,
   "id": "df771670",
   "metadata": {},
   "outputs": [],
   "source": []
  }
 ],
 "metadata": {
  "kernelspec": {
   "display_name": "Python 3 (ipykernel)",
   "language": "python",
   "name": "python3"
  },
  "language_info": {
   "codemirror_mode": {
    "name": "ipython",
    "version": 3
   },
   "file_extension": ".py",
   "mimetype": "text/x-python",
   "name": "python",
   "nbconvert_exporter": "python",
   "pygments_lexer": "ipython3",
   "version": "3.11.5"
  }
 },
 "nbformat": 4,
 "nbformat_minor": 5
}
