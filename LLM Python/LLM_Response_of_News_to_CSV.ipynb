{
 "cells": [
  {
   "cell_type": "code",
   "execution_count": 71,
   "id": "5861d03b",
   "metadata": {
    "scrolled": false
   },
   "outputs": [
    {
     "name": "stdout",
     "output_type": "stream",
     "text": [
      "{'name': 'Tesla Energy Storage Product', 'confidence': 80, 'advice': 'Buy'}\n",
      "Confidence: 80, Advice: Buy\n",
      "{'name': 'Tesla', 'confidence': 80, 'advice': 'Hold'}\n",
      "Confidence: 80, Advice: Hold\n",
      "{'stock': 'TSLA', 'confidence': 60, 'advice': 'HOLD'}\n",
      "Confidence: 60, Advice: HOLD\n",
      "{'stock': 'TSLA', 'confidence': 80, 'advice': 'Buy'}\n",
      "Confidence: 80, Advice: Buy\n",
      "{'name': 'Tesla', 'confidence': 50, 'advice': 'Hold'}\n",
      "Confidence: 50, Advice: Hold\n",
      "{'name': 'Tesla', 'confidence': 70, 'advice': 'Sell'}\n",
      "Confidence: 70, Advice: Sell\n",
      "{'name': 'Tesla', 'confidence': 80, 'advice': 'Buy'}\n",
      "Confidence: 80, Advice: Buy\n"
     ]
    }
   ],
   "source": [
    "import requests\n",
    "import json\n",
    "import csv\n",
    "\n",
    "def read_cnv_file(file_path):\n",
    "    cnv_data = []\n",
    "    with open(file_path, 'r') as file:\n",
    "        for line in file:\n",
    "            parts = line.strip().split(',') \n",
    "            if len(parts) == 3: \n",
    "                date, company, news_name = parts\n",
    "                cnv_data.append((date, company, news_name))\n",
    "    return cnv_data\n",
    "\n",
    "file_path = 'NewsTesla.csv'\n",
    "cnv_data = read_cnv_file(file_path)\n",
    "url = 'http://localhost:11434/api/generate'\n",
    "\n",
    "with open('Toutput.csv', 'w', newline='') as csvfile:\n",
    "    fieldnames = ['Date', 'News Name', 'Confidence', 'Advice']\n",
    "    writer = csv.DictWriter(csvfile, fieldnames=fieldnames)\n",
    "    writer.writeheader()\n",
    "\n",
    "    for idx, (date, company, news_name) in enumerate(cnv_data):\n",
    "        if idx == 0:\n",
    "            continue\n",
    "        \n",
    "        news = f\"{news_name}\"\n",
    "        data = {\n",
    "            \"model\": \"my-llama3\",\n",
    "            \"prompt\": news,\n",
    "            \"format\": \"json\",\n",
    "            \"stream\": False\n",
    "        }\n",
    "        response = requests.post(url, json=data)\n",
    "        if response.status_code == 200:\n",
    "            try:\n",
    "                result = response.json()\n",
    "                stock_info = result['response'].strip()\n",
    "                stock_infoDict = json.loads(stock_info)\n",
    "                print(stock_info_dict)\n",
    "                stock_info_lower = {k.lower(): v for k, v in stock_infoDict.items()}\n",
    "                confidence = stock_info_lower.get('confidence')\n",
    "                advice = stock_info_lower.get('advice')\n",
    "                if confidence is not None and advice is not None:\n",
    "                    print(f\"Confidence: {confidence}, Advice: {advice}\")\n",
    "                    writer.writerow({'Date': date, 'News Name': news_name, 'Confidence': confidence, 'Advice': advice})\n",
    "                else:\n",
    "                    print(\"ERROR datas have not the same structure\")\n",
    "            except (KeyError, ValueError) as e:\n",
    "                print(\"error in json:\", e)\n",
    "        else:\n",
    "            print(\"ERRO in respons with status code \", response.status_code)"
   ]
  },
  {
   "cell_type": "code",
   "execution_count": null,
   "id": "1a76e121",
   "metadata": {},
   "outputs": [],
   "source": [
    "\n"
   ]
  },
  {
   "cell_type": "code",
   "execution_count": null,
   "id": "5d087543",
   "metadata": {},
   "outputs": [],
   "source": []
  }
 ],
 "metadata": {
  "kernelspec": {
   "display_name": "Python 3 (ipykernel)",
   "language": "python",
   "name": "python3"
  },
  "language_info": {
   "codemirror_mode": {
    "name": "ipython",
    "version": 3
   },
   "file_extension": ".py",
   "mimetype": "text/x-python",
   "name": "python",
   "nbconvert_exporter": "python",
   "pygments_lexer": "ipython3",
   "version": "3.11.5"
  }
 },
 "nbformat": 4,
 "nbformat_minor": 5
}
