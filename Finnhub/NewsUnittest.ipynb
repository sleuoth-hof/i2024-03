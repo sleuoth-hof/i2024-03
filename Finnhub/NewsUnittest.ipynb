{
 "cells": [
  {
   "cell_type": "code",
   "execution_count": null,
   "id": "2a316933",
   "metadata": {},
   "outputs": [],
   "source": [
    "import unittest\n",
    "from unittest.mock import patch\n",
    "from datetime import datetime"
   ]
  },
  {
   "cell_type": "code",
   "execution_count": null,
   "id": "c25e4cef",
   "metadata": {},
   "outputs": [],
   "source": [
    "\n",
    "from NewsFinnhub import getfinnhubnews, convertTimestamp, writeNewsToCsv\n",
    "\n",
    "class TestFinnhubFunctions(unittest.TestCase):\n",
    "\n",
    "    @patch('finnhub.Client')\n",
    "    def test_convertTimestamp(self):\n",
    "        timestamp = 1619374840\n",
    "        expected_result = '2021-04-26 10:47:20'\n",
    "        self.assertEqual(convertTimestamp(timestamp), expected_result)\n",
    "\n",
    "    def test_writeNewsToCsv(self):\n",
    "        news = [\n",
    "            {\n",
    "                'category': 'top news',\n",
    "                'datetime': 1619374840,\n",
    "                'headline': 'Example Headline 1',\n",
    "                'id': 12345,\n",
    "                'image': '',\n",
    "                'related': '',\n",
    "                'source': 'Example Source 1',\n",
    "                'summary': 'Example summary for headline 1',\n",
    "                'url': 'https://example.com/1'\n",
    "            },\n",
    "            {\n",
    "                'category': 'top news',\n",
    "                'datetime': 1619374660,\n",
    "                'headline': 'Example Headline 2',\n",
    "                'id': 54321,\n",
    "                'image': '',\n",
    "                'related': '',\n",
    "                'source': 'Example Source 2',\n",
    "                'summary': 'Example summary for headline 2',\n",
    "                'url': 'https://example.com/2'\n",
    "            }\n",
    "        ]\n",
    "        csv_file = 'test_finnhubNews.csv'\n",
    "        # Mocken von csv.DictWriter\n",
    "        with patch('builtins.open', mock_open()) as mock_file:\n",
    "            writeNewsToCsv(news, csv_file)\n",
    "            # Überprüfen, ob writeheader und writerow korrekt aufgerufen wurden\n",
    "            mock_file().writeheader.assert_called_once()\n",
    "            self.assertEqual(mock_file().writerow.call_count, 2)\n",
    "\n",
    "if __name__ == '__main__':\n",
    "    unittest.main()"
   ]
  },
  {
   "cell_type": "code",
   "execution_count": null,
   "id": "b12c8501",
   "metadata": {},
   "outputs": [],
   "source": []
  },
  {
   "cell_type": "code",
   "execution_count": null,
   "id": "0f0dc648",
   "metadata": {},
   "outputs": [],
   "source": []
  }
 ],
 "metadata": {
  "kernelspec": {
   "display_name": "Python 3 (ipykernel)",
   "language": "python",
   "name": "python3"
  },
  "language_info": {
   "codemirror_mode": {
    "name": "ipython",
    "version": 3
   },
   "file_extension": ".py",
   "mimetype": "text/x-python",
   "name": "python",
   "nbconvert_exporter": "python",
   "pygments_lexer": "ipython3",
   "version": "3.11.5"
  }
 },
 "nbformat": 4,
 "nbformat_minor": 5
}
