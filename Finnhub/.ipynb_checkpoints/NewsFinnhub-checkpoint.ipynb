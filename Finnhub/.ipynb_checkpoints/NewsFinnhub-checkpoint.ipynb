{
 "cells": [
  {
   "cell_type": "code",
   "execution_count": 55,
   "id": "d4e7b7db",
   "metadata": {},
   "outputs": [
    {
     "name": "stdout",
     "output_type": "stream",
     "text": [
      "Requirement already satisfied: finnhub-python in c:\\users\\manuel\\anaconda3\\lib\\site-packages (2.4.19)\n",
      "Requirement already satisfied: requests>=2.22.0 in c:\\users\\manuel\\anaconda3\\lib\\site-packages (from finnhub-python) (2.31.0)\n",
      "Requirement already satisfied: charset-normalizer<4,>=2 in c:\\users\\manuel\\anaconda3\\lib\\site-packages (from requests>=2.22.0->finnhub-python) (2.0.4)\n",
      "Requirement already satisfied: idna<4,>=2.5 in c:\\users\\manuel\\anaconda3\\lib\\site-packages (from requests>=2.22.0->finnhub-python) (3.4)\n",
      "Requirement already satisfied: urllib3<3,>=1.21.1 in c:\\users\\manuel\\anaconda3\\lib\\site-packages (from requests>=2.22.0->finnhub-python) (1.26.16)\n",
      "Requirement already satisfied: certifi>=2017.4.17 in c:\\users\\manuel\\anaconda3\\lib\\site-packages (from requests>=2.22.0->finnhub-python) (2024.2.2)\n",
      "Note: you may need to restart the kernel to use updated packages.\n"
     ]
    }
   ],
   "source": [
    "pip install finnhub-python"
   ]
  },
  {
   "cell_type": "code",
   "execution_count": 77,
   "id": "1a75cabc",
   "metadata": {},
   "outputs": [],
   "source": [
    "import finnhub\n",
    "import json\n",
    "from datetime import datetime\n",
    "import csv\n",
    "import pandas as pd\n",
    "import os"
   ]
  },
  {
   "cell_type": "code",
   "execution_count": 87,
   "id": "9b135fe8",
   "metadata": {},
   "outputs": [
    {
     "name": "stdout",
     "output_type": "stream",
     "text": [
      "Nachrichten wurden erfolgreich in die CSV-Datei geschrieben: finnhubNews.csv\n"
     ]
    }
   ],
   "source": [
    "\n",
    "def getfinnhubnews(api_key):\n",
    "    try:\n",
    "        finnhub_client = finnhub.Client(api_key=api_key)\n",
    "        news = list(finnhub_client.general_news('general', min_id=0))\n",
    "        return news\n",
    "    except Exception as e:\n",
    "        print(\"Fehler beim Abrufen der Nachrichten:\", e)\n",
    "        return []\n",
    "\n",
    "def convertTimestamp(timestamp):\n",
    "    return datetime.fromtimestamp(timestamp).strftime('%Y-%m-%d %H:%M:%S')\n",
    "\n",
    "def writeNewsToCsv(news, csv_file):\n",
    "    csv_header = ['category', 'datetime', 'headline', 'id', 'image', 'related', 'source', 'summary', 'url']\n",
    "    try:\n",
    "        with open(csv_file, mode='w', newline='', encoding='utf-8') as file:\n",
    "            writer = csv.DictWriter(file, fieldnames=csv_header)\n",
    "            writer.writeheader()\n",
    "            for entry in news:\n",
    "                entry['datetime'] = convertTimestamp(entry['datetime'])\n",
    "                writer.writerow(entry)\n",
    "        print(\"Message write in cnv\", csv_file)\n",
    "    except Exception as e:\n",
    "        print(\"ERROR\", e)\n",
    "\n",
    "\n",
    "api_key = \"cokf2gpr01qq4pkujt6gcokf2gpr01qq4pkujt70\"\n",
    "news = getfinnhubnews(api_key)\n",
    "if news:\n",
    "    writeNewsToCsv(news, 'finnhubNews.csv')"
   ]
  },
  {
   "cell_type": "code",
   "execution_count": 80,
   "id": "a762bb7a",
   "metadata": {},
   "outputs": [
    {
     "name": "stdout",
     "output_type": "stream",
     "text": [
      "   category             datetime  \\\n",
      "0  top news  2024-04-29 11:05:00   \n",
      "1  top news  2024-04-29 11:04:00   \n",
      "2  top news  2024-04-29 11:03:00   \n",
      "3  top news  2024-04-29 11:01:00   \n",
      "4  top news  2024-04-29 10:55:00   \n",
      "\n",
      "                                            headline       id image  related  \\\n",
      "0  Cheaper, better, safer, healthier and more fun...  7361921   NaN      NaN   \n",
      "1  Mercedes-Benz is making a radical change to th...  7361922   NaN      NaN   \n",
      "2  These are the 10 cheapest car brands to mainta...  7361923   NaN      NaN   \n",
      "3  Photographer Annie Leibovitz lists her 65-acre...  7361924   NaN      NaN   \n",
      "4  Philips shares soar 30% after U.S. litigation ...  7361920   NaN      NaN   \n",
      "\n",
      "        source                                            summary  \\\n",
      "0  MarketWatch  What makes a city a great place to live? The m...   \n",
      "1  MarketWatch  The electric G has shocking horsepower and an ...   \n",
      "2  MarketWatch  Tesla tops this list of the least expensive au...   \n",
      "3  MarketWatch  Legendary photographer Annie Leibovitz, famous...   \n",
      "4  MarketWatch  The company said it would pay $1.1 billion to ...   \n",
      "\n",
      "                                                 url  \n",
      "0  https://www.marketwatch.com/story/cheaper-bett...  \n",
      "1  https://www.marketwatch.com/story/mercedes-ben...  \n",
      "2  https://www.marketwatch.com/story/these-are-th...  \n",
      "3  https://www.marketwatch.com/story/photographer...  \n",
      "4  https://www.marketwatch.com/story/philips-shar...  \n"
     ]
    }
   ],
   "source": [
    "df = pd.read_csv('finnhubNews.csv')\n",
    "print(df.head(5))\n"
   ]
  },
  {
   "cell_type": "code",
   "execution_count": 84,
   "id": "d1180fd4",
   "metadata": {},
   "outputs": [],
   "source": []
  },
  {
   "cell_type": "code",
   "execution_count": 90,
   "id": "22ec0cec",
   "metadata": {},
   "outputs": [
    {
     "name": "stderr",
     "output_type": "stream",
     "text": [
      "E\n",
      "======================================================================\n",
      "ERROR: C:\\Users\\Manuel\\AppData\\Roaming\\jupyter\\runtime\\kernel-c362a24e-a6f7-41ef-ad87-cae55a6c108a (unittest.loader._FailedTest.C:\\Users\\Manuel\\AppData\\Roaming\\jupyter\\runtime\\kernel-c362a24e-a6f7-41ef-ad87-cae55a6c108a)\n",
      "----------------------------------------------------------------------\n",
      "AttributeError: module '__main__' has no attribute 'C:\\Users\\Manuel\\AppData\\Roaming\\jupyter\\runtime\\kernel-c362a24e-a6f7-41ef-ad87-cae55a6c108a'\n",
      "\n",
      "----------------------------------------------------------------------\n",
      "Ran 1 test in 0.001s\n",
      "\n",
      "FAILED (errors=1)\n"
     ]
    },
    {
     "ename": "SystemExit",
     "evalue": "True",
     "output_type": "error",
     "traceback": [
      "An exception has occurred, use %tb to see the full traceback.\n",
      "\u001b[1;31mSystemExit\u001b[0m\u001b[1;31m:\u001b[0m True\n"
     ]
    },
    {
     "name": "stderr",
     "output_type": "stream",
     "text": [
      "C:\\Users\\Manuel\\anaconda3\\Lib\\site-packages\\IPython\\core\\interactiveshell.py:3534: UserWarning: To exit: use 'exit', 'quit', or Ctrl-D.\n",
      "  warn(\"To exit: use 'exit', 'quit', or Ctrl-D.\", stacklevel=1)\n"
     ]
    }
   ],
   "source": []
  },
  {
   "cell_type": "code",
   "execution_count": null,
   "id": "d2a49464",
   "metadata": {},
   "outputs": [],
   "source": []
  }
 ],
 "metadata": {
  "kernelspec": {
   "display_name": "Python 3 (ipykernel)",
   "language": "python",
   "name": "python3"
  },
  "language_info": {
   "codemirror_mode": {
    "name": "ipython",
    "version": 3
   },
   "file_extension": ".py",
   "mimetype": "text/x-python",
   "name": "python",
   "nbconvert_exporter": "python",
   "pygments_lexer": "ipython3",
   "version": "3.11.5"
  }
 },
 "nbformat": 4,
 "nbformat_minor": 5
}
